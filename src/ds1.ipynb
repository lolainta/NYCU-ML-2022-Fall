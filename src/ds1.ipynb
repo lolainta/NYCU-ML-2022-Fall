{
 "cells": [
  {
   "cell_type": "code",
   "execution_count": null,
   "metadata": {},
   "outputs": [],
   "source": [
    "%load_ext autoreload\n",
    "%autoreload 2"
   ]
  },
  {
   "attachments": {},
   "cell_type": "markdown",
   "metadata": {},
   "source": [
    "# Wine Quality Data Set\n",
    "\n",
    "In this problem, we are given a dataset of wine characteristics and the corresponding quality ratings. Our goal is to build a model that can predict the quality of a wine based on its characteristics.\n"
   ]
  },
  {
   "attachments": {},
   "cell_type": "markdown",
   "metadata": {},
   "source": [
    "Import neccessary modules"
   ]
  },
  {
   "cell_type": "code",
   "execution_count": null,
   "metadata": {},
   "outputs": [],
   "source": [
    "import pandas\n",
    "import numpy as np\n",
    "import importlib\n",
    "\n",
    "from classifiers.RandomClassifier import RandomClassifier \n",
    "from classifiers.DecisionTreeClassifier import DecisionTreeClassifier\n",
    "from StatisticManager import StatisticManager"
   ]
  },
  {
   "attachments": {},
   "cell_type": "markdown",
   "metadata": {},
   "source": [
    "Read and show the basic information of the training data set"
   ]
  },
  {
   "cell_type": "code",
   "execution_count": null,
   "metadata": {},
   "outputs": [],
   "source": [
    "X_train=pandas.read_excel('../data/Dataset1_train/X_train.xlsx')\n",
    "y_train=pandas.read_excel('../data/Dataset1_train/y_train.xlsx')\n",
    "X_train.info()\n",
    "X_train.head()\n",
    "# y_train.head()\n"
   ]
  },
  {
   "attachments": {},
   "cell_type": "markdown",
   "metadata": {},
   "source": [
    "Define the target feature name in the data set we want to predict"
   ]
  },
  {
   "cell_type": "code",
   "execution_count": null,
   "metadata": {},
   "outputs": [],
   "source": [
    "# target=\"Sentiment\"\n",
    "target=\"class\"\n",
    "target_feature=target+\"_cat\""
   ]
  },
  {
   "attachments": {},
   "cell_type": "markdown",
   "metadata": {},
   "source": [
    "## Data Process\n",
    "- Fill all missing values with the median of that descriptive feature\n",
    "- Profile the descriptive features of the training dataset (it might need some time)"
   ]
  },
  {
   "cell_type": "code",
   "execution_count": null,
   "metadata": {},
   "outputs": [],
   "source": [
    "X_train.fillna(X_train.median(),inplace=True)\n",
    "\n",
    "# from pandas_profiling import ProfileReport\n",
    "\n",
    "# ProfileReport(X_train,title=\"X_train profiling\")\n",
    "# ProfileReport(y_train,title=\"y_train profiling\")\n"
   ]
  },
  {
   "attachments": {},
   "cell_type": "markdown",
   "metadata": {},
   "source": [
    "- Change the target feature to an catagorical feature\n",
    "- Show the percentage of each classes"
   ]
  },
  {
   "cell_type": "code",
   "execution_count": null,
   "metadata": {},
   "outputs": [],
   "source": [
    "y_train[target_feature]=y_train[target].astype(\"category\")\n",
    "y_train.drop([target],axis=1,inplace=True)\n",
    "y_train[target_feature].value_counts(normalize=True)*100"
   ]
  },
  {
   "attachments": {},
   "cell_type": "markdown",
   "metadata": {},
   "source": [
    "## Decision Tree\n",
    "- Build the decisition tree with given paremeters"
   ]
  },
  {
   "cell_type": "code",
   "execution_count": null,
   "metadata": {},
   "outputs": [],
   "source": [
    "cls=DecisionTreeClassifier(depth=5,target_feature=target_feature)"
   ]
  },
  {
   "attachments": {},
   "cell_type": "markdown",
   "metadata": {},
   "source": [
    "Baseline randomn classifier, not important"
   ]
  },
  {
   "cell_type": "code",
   "execution_count": null,
   "metadata": {},
   "outputs": [],
   "source": [
    "# cls=RandomClassifier(random_state=72510)\n",
    "\n",
    "# cls.fit(X_train,y_train)\n",
    "\n",
    "# y_pred=cls.predict(X_train)\n",
    "\n",
    "# print(type(X_train),y_pred.shape)\n"
   ]
  },
  {
   "attachments": {},
   "cell_type": "markdown",
   "metadata": {},
   "source": [
    "## Evaluate\n",
    "- Evalutate the classifier by the statistic manager\n",
    "- It will use a portoin of the training dataset as the validation dataset, and this validation dataset will be hided at the training process.\n",
    "- The static manager will not only output the accuracy, it will also display the cuffusion matrix"
   ]
  },
  {
   "cell_type": "code",
   "execution_count": null,
   "metadata": {},
   "outputs": [],
   "source": [
    "\n",
    "statistic=StatisticManager(target_feature)\n",
    "statistic.evaluate(cls,X_train,y_train,portion=0.3)\n"
   ]
  },
  {
   "attachments": {},
   "cell_type": "markdown",
   "metadata": {},
   "source": [
    "## Result\n",
    "The accuracy tested for the 30% validation datast is about 54% ~ 56%"
   ]
  }
 ],
 "metadata": {
  "kernelspec": {
   "display_name": ".venv",
   "language": "python",
   "name": "python3"
  },
  "language_info": {
   "codemirror_mode": {
    "name": "ipython",
    "version": 3
   },
   "file_extension": ".py",
   "mimetype": "text/x-python",
   "name": "python",
   "nbconvert_exporter": "python",
   "pygments_lexer": "ipython3",
   "version": "3.10.9 (main, Dec 19 2022, 17:35:49) [GCC 12.2.0]"
  },
  "orig_nbformat": 4,
  "vscode": {
   "interpreter": {
    "hash": "8a4f55d9e123273fd62cd91d79c68cbedd3309d0ae89ea8c5527d28786b75bc4"
   }
  }
 },
 "nbformat": 4,
 "nbformat_minor": 2
}
