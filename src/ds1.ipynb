{
 "cells": [
  {
   "cell_type": "code",
   "execution_count": null,
   "metadata": {},
   "outputs": [],
   "source": [
    "%load_ext autoreload\n",
    "%autoreload 2"
   ]
  },
  {
   "cell_type": "code",
   "execution_count": null,
   "metadata": {},
   "outputs": [],
   "source": [
    "import pandas\n",
    "import numpy as np\n",
    "import importlib\n",
    "\n",
    "from classifiers.RandomClassifier import RandomClassifier \n",
    "from classifiers.DecisionTreeClassifier import DecisionTreeClassifier\n",
    "from StatisticManager import StatisticManager"
   ]
  },
  {
   "attachments": {},
   "cell_type": "markdown",
   "metadata": {},
   "source": [
    "Read and show the head of the training data set"
   ]
  },
  {
   "cell_type": "code",
   "execution_count": null,
   "metadata": {},
   "outputs": [],
   "source": [
    "X_train=pandas.read_excel('../Dataset1_train/X_train.xlsx')\n",
    "y_train=pandas.read_excel('../Dataset1_train/y_train.xlsx')\n",
    "X_train.head()\n",
    "y_train.head()\n"
   ]
  },
  {
   "attachments": {},
   "cell_type": "markdown",
   "metadata": {},
   "source": [
    "- Fill all missing values with the median of that descriptive feature\n",
    "- Profile the descriptive features of the training dataset"
   ]
  },
  {
   "cell_type": "code",
   "execution_count": null,
   "metadata": {},
   "outputs": [],
   "source": [
    "X_train.fillna(X_train.median(),inplace=True)\n",
    "\n",
    "# from pandas_profiling import ProfileReport\n",
    "\n",
    "# ProfileReport(X_train,title=\"X_train profiling\")\n",
    "# ProfileReport(y_train,title=\"y_train profiling\")\n"
   ]
  },
  {
   "attachments": {},
   "cell_type": "markdown",
   "metadata": {},
   "source": [
    "Print the percentage of each classes"
   ]
  },
  {
   "cell_type": "code",
   "execution_count": null,
   "metadata": {},
   "outputs": [],
   "source": [
    "y_train[\"class_cat\"]=y_train[\"class\"].astype(\"category\")\n",
    "y_train[\"class_cat\"].value_counts(normalize=True)*100"
   ]
  },
  {
   "cell_type": "code",
   "execution_count": null,
   "metadata": {},
   "outputs": [],
   "source": [
    "cls=DecisionTreeClassifier()\n",
    "# cls.fit(X_train[:10],y_train[:10])\n",
    "cls.fit(X_train,y_train)\n",
    "# y_pred=cls.predict(X_train)"
   ]
  },
  {
   "cell_type": "code",
   "execution_count": null,
   "metadata": {},
   "outputs": [],
   "source": [
    "\n",
    "y_pred=cls.predict(X_train)\n",
    "print(y_pred)"
   ]
  },
  {
   "cell_type": "code",
   "execution_count": null,
   "metadata": {},
   "outputs": [],
   "source": [
    "# cls=RandomClassifier(random_state=72510)\n",
    "\n",
    "# cls.fit(X_train,y_train)\n",
    "\n",
    "# y_pred=cls.predict(X_train)\n",
    "\n",
    "# print(type(X_train),y_pred.shape)\n"
   ]
  },
  {
   "cell_type": "code",
   "execution_count": null,
   "metadata": {},
   "outputs": [],
   "source": [
    "\n",
    "statistic=StatisticManager()\n",
    "statistic.evaluate(y_train['class_cat'],y_pred)\n"
   ]
  },
  {
   "cell_type": "code",
   "execution_count": null,
   "metadata": {},
   "outputs": [],
   "source": []
  }
 ],
 "metadata": {
  "kernelspec": {
   "display_name": ".venv",
   "language": "python",
   "name": "python3"
  },
  "language_info": {
   "codemirror_mode": {
    "name": "ipython",
    "version": 3
   },
   "file_extension": ".py",
   "mimetype": "text/x-python",
   "name": "python",
   "nbconvert_exporter": "python",
   "pygments_lexer": "ipython3",
   "version": "3.10.9"
  },
  "orig_nbformat": 4,
  "vscode": {
   "interpreter": {
    "hash": "8a4f55d9e123273fd62cd91d79c68cbedd3309d0ae89ea8c5527d28786b75bc4"
   }
  }
 },
 "nbformat": 4,
 "nbformat_minor": 2
}
