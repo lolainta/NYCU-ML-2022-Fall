{
 "cells": [
  {
   "cell_type": "code",
   "execution_count": 1,
   "metadata": {},
   "outputs": [],
   "source": [
    "%load_ext autoreload\n",
    "%autoreload 2"
   ]
  },
  {
   "cell_type": "code",
   "execution_count": 2,
   "metadata": {},
   "outputs": [],
   "source": [
    "import pandas\n",
    "import numpy as np\n",
    "import importlib\n",
    "\n",
    "from classifiers.RandomClassifier import RandomClassifier \n",
    "from classifiers.DecisionTreeClassifier import DecisionTreeClassifier\n",
    "from StatisticManager import StatisticManager"
   ]
  },
  {
   "attachments": {},
   "cell_type": "markdown",
   "metadata": {},
   "source": [
    "Read and show the head of the training data set"
   ]
  },
  {
   "cell_type": "code",
   "execution_count": 3,
   "metadata": {},
   "outputs": [
    {
     "name": "stdout",
     "output_type": "stream",
     "text": [
      "<class 'pandas.core.frame.DataFrame'>\n",
      "RangeIndex: 1023 entries, 0 to 1022\n",
      "Data columns (total 11 columns):\n",
      " #   Column                Non-Null Count  Dtype  \n",
      "---  ------                --------------  -----  \n",
      " 0   fixed_acidity         958 non-null    float64\n",
      " 1   volatile_acidity      979 non-null    float64\n",
      " 2   citric_acid           963 non-null    float64\n",
      " 3   residual_sugar        984 non-null    float64\n",
      " 4   chlorides             971 non-null    float64\n",
      " 5   free_sulfur_dioxide   966 non-null    float64\n",
      " 6   total_sulfur_dioxide  978 non-null    float64\n",
      " 7   density               977 non-null    float64\n",
      " 8   pH                    965 non-null    float64\n",
      " 9   sulphates             972 non-null    float64\n",
      " 10  alcohol               965 non-null    float64\n",
      "dtypes: float64(11)\n",
      "memory usage: 88.0 KB\n"
     ]
    },
    {
     "data": {
      "text/html": [
       "<div>\n",
       "<style scoped>\n",
       "    .dataframe tbody tr th:only-of-type {\n",
       "        vertical-align: middle;\n",
       "    }\n",
       "\n",
       "    .dataframe tbody tr th {\n",
       "        vertical-align: top;\n",
       "    }\n",
       "\n",
       "    .dataframe thead th {\n",
       "        text-align: right;\n",
       "    }\n",
       "</style>\n",
       "<table border=\"1\" class=\"dataframe\">\n",
       "  <thead>\n",
       "    <tr style=\"text-align: right;\">\n",
       "      <th></th>\n",
       "      <th>fixed_acidity</th>\n",
       "      <th>volatile_acidity</th>\n",
       "      <th>citric_acid</th>\n",
       "      <th>residual_sugar</th>\n",
       "      <th>chlorides</th>\n",
       "      <th>free_sulfur_dioxide</th>\n",
       "      <th>total_sulfur_dioxide</th>\n",
       "      <th>density</th>\n",
       "      <th>pH</th>\n",
       "      <th>sulphates</th>\n",
       "      <th>alcohol</th>\n",
       "    </tr>\n",
       "  </thead>\n",
       "  <tbody>\n",
       "    <tr>\n",
       "      <th>0</th>\n",
       "      <td>7.0</td>\n",
       "      <td>0.23</td>\n",
       "      <td>0.40</td>\n",
       "      <td>1.6</td>\n",
       "      <td>0.063</td>\n",
       "      <td>NaN</td>\n",
       "      <td>67.0</td>\n",
       "      <td>0.99520</td>\n",
       "      <td>3.50</td>\n",
       "      <td>0.63</td>\n",
       "      <td>11.1</td>\n",
       "    </tr>\n",
       "    <tr>\n",
       "      <th>1</th>\n",
       "      <td>7.8</td>\n",
       "      <td>0.60</td>\n",
       "      <td>0.26</td>\n",
       "      <td>2.0</td>\n",
       "      <td>0.080</td>\n",
       "      <td>31.0</td>\n",
       "      <td>131.0</td>\n",
       "      <td>0.99622</td>\n",
       "      <td>NaN</td>\n",
       "      <td>0.52</td>\n",
       "      <td>9.9</td>\n",
       "    </tr>\n",
       "    <tr>\n",
       "      <th>2</th>\n",
       "      <td>9.7</td>\n",
       "      <td>0.69</td>\n",
       "      <td>0.32</td>\n",
       "      <td>2.5</td>\n",
       "      <td>0.088</td>\n",
       "      <td>22.0</td>\n",
       "      <td>91.0</td>\n",
       "      <td>0.99790</td>\n",
       "      <td>3.29</td>\n",
       "      <td>0.62</td>\n",
       "      <td>10.1</td>\n",
       "    </tr>\n",
       "    <tr>\n",
       "      <th>3</th>\n",
       "      <td>12.0</td>\n",
       "      <td>0.38</td>\n",
       "      <td>0.56</td>\n",
       "      <td>2.1</td>\n",
       "      <td>0.093</td>\n",
       "      <td>6.0</td>\n",
       "      <td>24.0</td>\n",
       "      <td>0.99925</td>\n",
       "      <td>3.14</td>\n",
       "      <td>0.71</td>\n",
       "      <td>10.9</td>\n",
       "    </tr>\n",
       "    <tr>\n",
       "      <th>4</th>\n",
       "      <td>6.4</td>\n",
       "      <td>0.64</td>\n",
       "      <td>0.21</td>\n",
       "      <td>1.8</td>\n",
       "      <td>0.081</td>\n",
       "      <td>14.0</td>\n",
       "      <td>31.0</td>\n",
       "      <td>0.99689</td>\n",
       "      <td>3.59</td>\n",
       "      <td>0.66</td>\n",
       "      <td>NaN</td>\n",
       "    </tr>\n",
       "  </tbody>\n",
       "</table>\n",
       "</div>"
      ],
      "text/plain": [
       "   fixed_acidity  volatile_acidity  citric_acid  residual_sugar  chlorides  \\\n",
       "0            7.0              0.23         0.40             1.6      0.063   \n",
       "1            7.8              0.60         0.26             2.0      0.080   \n",
       "2            9.7              0.69         0.32             2.5      0.088   \n",
       "3           12.0              0.38         0.56             2.1      0.093   \n",
       "4            6.4              0.64         0.21             1.8      0.081   \n",
       "\n",
       "   free_sulfur_dioxide  total_sulfur_dioxide  density    pH  sulphates  \\\n",
       "0                  NaN                  67.0  0.99520  3.50       0.63   \n",
       "1                 31.0                 131.0  0.99622   NaN       0.52   \n",
       "2                 22.0                  91.0  0.99790  3.29       0.62   \n",
       "3                  6.0                  24.0  0.99925  3.14       0.71   \n",
       "4                 14.0                  31.0  0.99689  3.59       0.66   \n",
       "\n",
       "   alcohol  \n",
       "0     11.1  \n",
       "1      9.9  \n",
       "2     10.1  \n",
       "3     10.9  \n",
       "4      NaN  "
      ]
     },
     "execution_count": 3,
     "metadata": {},
     "output_type": "execute_result"
    }
   ],
   "source": [
    "X_train=pandas.read_excel('../data/Dataset1_train/X_train.xlsx')\n",
    "y_train=pandas.read_excel('../data/Dataset1_train/y_train.xlsx')\n",
    "X_train.info()\n",
    "X_train.head()\n",
    "# y_train.head()\n"
   ]
  },
  {
   "attachments": {},
   "cell_type": "markdown",
   "metadata": {},
   "source": [
    "- Fill all missing values with the median of that descriptive feature\n",
    "- Profile the descriptive features of the training dataset"
   ]
  },
  {
   "cell_type": "code",
   "execution_count": 4,
   "metadata": {},
   "outputs": [],
   "source": [
    "X_train.fillna(X_train.median(),inplace=True)\n",
    "\n",
    "# from pandas_profiling import ProfileReport\n",
    "\n",
    "# ProfileReport(X_train,title=\"X_train profiling\")\n",
    "# ProfileReport(y_train,title=\"y_train profiling\")\n"
   ]
  },
  {
   "attachments": {},
   "cell_type": "markdown",
   "metadata": {},
   "source": [
    "Print the percentage of each classes"
   ]
  },
  {
   "cell_type": "code",
   "execution_count": 5,
   "metadata": {},
   "outputs": [
    {
     "data": {
      "text/plain": [
       "5    41.739980\n",
       "6    40.762463\n",
       "7    12.121212\n",
       "4     3.225806\n",
       "8     1.368524\n",
       "3     0.782014\n",
       "Name: class_cat, dtype: float64"
      ]
     },
     "execution_count": 5,
     "metadata": {},
     "output_type": "execute_result"
    }
   ],
   "source": [
    "y_train[\"class_cat\"]=y_train[\"class\"].astype(\"category\")\n",
    "y_train.drop([\"class\"],axis=1,inplace=True)\n",
    "y_train[\"class_cat\"].value_counts(normalize=True)*100"
   ]
  },
  {
   "cell_type": "code",
   "execution_count": 6,
   "metadata": {},
   "outputs": [
    {
     "name": "stdout",
     "output_type": "stream",
     "text": [
      "class_cat\n"
     ]
    }
   ],
   "source": [
    "cls=DecisionTreeClassifier(depth=5,target_feature=\"class_cat\")\n",
    "# cls.fit(X_train[:10],y_train[:10])\n",
    "\n",
    "# cls.fit(X_train,y_train)\n",
    "# y_pred=cls.predict(X_train)\n",
    "# print(y_pred)"
   ]
  },
  {
   "cell_type": "code",
   "execution_count": 7,
   "metadata": {},
   "outputs": [],
   "source": [
    "# cls=RandomClassifier(random_state=72510)\n",
    "\n",
    "# cls.fit(X_train,y_train)\n",
    "\n",
    "# y_pred=cls.predict(X_train)\n",
    "\n",
    "# print(type(X_train),y_pred.shape)\n"
   ]
  },
  {
   "cell_type": "code",
   "execution_count": 20,
   "metadata": {},
   "outputs": [
    {
     "name": "stderr",
     "output_type": "stream",
     "text": [
      "/home/llt/ML/src/classifiers/DecisionNode.py:69: SettingWithCopyWarning: \n",
      "A value is trying to be set on a copy of a slice from a DataFrame\n",
      "\n",
      "See the caveats in the documentation: https://pandas.pydata.org/pandas-docs/stable/user_guide/indexing.html#returning-a-view-versus-a-copy\n",
      "  argmax.clear()\n"
     ]
    },
    {
     "name": "stdout",
     "output_type": "stream",
     "text": [
      "Accuracy: 54.071661237785015%\n"
     ]
    },
    {
     "data": {
      "image/png": "[encoded data removed]",
      "text/plain": [
       "<Figure size 640x480 with 2 Axes>"
      ]
     },
     "metadata": {},
     "output_type": "display_data"
    }
   ],
   "source": [
    "\n",
    "statistic=StatisticManager()\n",
    "statistic.crossValidate(cls,X_train,y_train,cv=1)\n",
    "# print(y_train)\n",
    "# statistic.evaluate(y_train['class_cat'],y_pred)\n"
   ]
  },
  {
   "cell_type": "code",
   "execution_count": null,
   "metadata": {},
   "outputs": [],
   "source": []
  },
  {
   "cell_type": "code",
   "execution_count": null,
   "metadata": {},
   "outputs": [],
   "source": []
  }
 ],
 "metadata": {
  "kernelspec": {
   "display_name": ".venv",
   "language": "python",
   "name": "python3"
  },
  "language_info": {
   "codemirror_mode": {
    "name": "ipython",
    "version": 3
   },
   "file_extension": ".py",
   "mimetype": "text/x-python",
   "name": "python",
   "nbconvert_exporter": "python",
   "pygments_lexer": "ipython3",
   "version": "3.10.9"
  },
  "orig_nbformat": 4,
  "vscode": {
   "interpreter": {
    "hash": "8a4f55d9e123273fd62cd91d79c68cbedd3309d0ae89ea8c5527d28786b75bc4"
   }
  }
 },
 "nbformat": 4,
 "nbformat_minor": 2
}
